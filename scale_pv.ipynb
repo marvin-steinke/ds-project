{
 "cells": [
  {
   "cell_type": "code",
   "execution_count": 37,
   "metadata": {},
   "outputs": [
    {
     "name": "stdout",
     "output_type": "stream",
     "text": [
      "                    Date      P # [W]\n",
      "0    2014-01-01 14:08:00  -272.000000\n",
      "1    2014-01-01 14:08:01 -2166.000000\n",
      "2    2014-01-01 14:08:02 -3400.333333\n",
      "3    2014-01-01 14:08:03 -1490.666667\n",
      "4    2014-01-01 14:08:04 -3189.666667\n",
      "..                   ...          ...\n",
      "494  2014-01-01 14:16:15     0.000000\n",
      "495  2014-01-01 14:16:16     0.000000\n",
      "496  2014-01-01 14:16:17     0.000000\n",
      "497  2014-01-01 14:16:18     0.000000\n",
      "498  2014-01-01 14:16:19     0.000000\n",
      "\n",
      "[499 rows x 2 columns]\n",
      "                    Date      P # [W]\n",
      "0    2014-01-01 14:08:00  -272.000000\n",
      "1    2014-01-01 14:08:01  -866.400000\n",
      "2    2014-01-01 14:08:02 -1360.133333\n",
      "3    2014-01-01 14:08:03  -596.266667\n",
      "4    2014-01-01 14:08:04 -1275.866667\n",
      "..                   ...          ...\n",
      "494  2014-01-01 14:16:15     0.000000\n",
      "495  2014-01-01 14:16:16     0.000000\n",
      "496  2014-01-01 14:16:17     0.000000\n",
      "497  2014-01-01 14:16:18     0.000000\n",
      "498  2014-01-01 14:16:19     0.000000\n",
      "\n",
      "[499 rows x 2 columns]\n"
     ]
    },
    {
     "name": "stderr",
     "output_type": "stream",
     "text": [
      "C:\\Users\\Henrik\\AppData\\Local\\Temp\\ipykernel_1144\\640649252.py:6: SettingWithCopyWarning: \n",
      "A value is trying to be set on a copy of a slice from a DataFrame\n",
      "\n",
      "See the caveats in the documentation: https://pandas.pydata.org/pandas-docs/stable/user_guide/indexing.html#returning-a-view-versus-a-copy\n",
      "  df[\"P # [W]\"].iloc[1:200] = df[\"P # [W]\"].iloc[1:200].mul(0.4)\n"
     ]
    }
   ],
   "source": [
    "import pandas as pd\n",
    "\n",
    "df = pd.read_csv('./resources/example_2_PV_full_branch.csv',skiprows=[0])\n",
    "print(df)\n",
    "\n",
    "df[\"P # [W]\"].iloc[1:200] = df[\"P # [W]\"].iloc[1:200].mul(0.4)\n",
    "\n",
    "\n",
    "\n",
    "print(df)\n",
    "\n",
    "df.to_csv(\"./resources/output.csv\")"
   ]
  }
 ],
 "metadata": {
  "kernelspec": {
   "display_name": "Python 3",
   "language": "python",
   "name": "python3"
  },
  "language_info": {
   "codemirror_mode": {
    "name": "ipython",
    "version": 3
   },
   "file_extension": ".py",
   "mimetype": "text/x-python",
   "name": "python",
   "nbconvert_exporter": "python",
   "pygments_lexer": "ipython3",
   "version": "3.9.13"
  },
  "orig_nbformat": 4
 },
 "nbformat": 4,
 "nbformat_minor": 2
}
